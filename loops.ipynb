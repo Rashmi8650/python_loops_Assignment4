{
 "cells": [
  {
   "cell_type": "markdown",
   "id": "42448f4d",
   "metadata": {},
   "source": [
    "# Loops(For / While)\n"
   ]
  },
  {
   "cell_type": "code",
   "execution_count": 4,
   "id": "35ba2dec",
   "metadata": {},
   "outputs": [
    {
     "name": "stdout",
     "output_type": "stream",
     "text": [
      "1\n",
      "2\n",
      "3\n",
      "4\n",
      "5\n"
     ]
    }
   ],
   "source": [
    "#Print number from 1 to 5 using a while loop.\n",
    "count = 1\n",
    "while count <= 5:\n",
    "    print(count)\n",
    "    count += 1"
   ]
  },
  {
   "cell_type": "code",
   "execution_count": 1,
   "id": "88807150",
   "metadata": {},
   "outputs": [
    {
     "name": "stdout",
     "output_type": "stream",
     "text": [
      "55\n"
     ]
    }
   ],
   "source": [
    "#Calculate the sum of numbers from 1 to 10 using a while loop.\n",
    "\n",
    "num=1\n",
    "sum1=0\n",
    "while num <= 10:\n",
    "    sum1=sum1+num\n",
    "    num=num+1\n",
    "print(sum1)    "
   ]
  },
  {
   "cell_type": "code",
   "execution_count": 3,
   "id": "cdcc352c",
   "metadata": {},
   "outputs": [
    {
     "name": "stdout",
     "output_type": "stream",
     "text": [
      "5\n",
      "The Factorial of the number is :-  120\n"
     ]
    }
   ],
   "source": [
    "# Calculate the factorial of a number using a for loop.\n",
    "num1=int(input())\n",
    "factorial=1\n",
    "if num1>=1:\n",
    "    for i in range(1,num1+1):\n",
    "        factorial=factorial*i\n",
    "print(\"The Factorial of the number is :- \" ,factorial)"
   ]
  },
  {
   "cell_type": "code",
   "execution_count": 4,
   "id": "97e1ecc7",
   "metadata": {},
   "outputs": [
    {
     "name": "stdout",
     "output_type": "stream",
     "text": [
      "My name is rashmi sharma\n",
      "Total number of vowels in a string: 7\n"
     ]
    }
   ],
   "source": [
    "#Count the number of vowels in a string using a for loop.\n",
    "s1=input()\n",
    "count=0\n",
    "vowel=['a','e','i','o','u']\n",
    "for i in range(len(s1)):\n",
    "    if s1[i] in vowel:\n",
    "        count+=1\n",
    "print(\"Total number of vowels in a string:\",count)        \n",
    "    "
   ]
  },
  {
   "cell_type": "code",
   "execution_count": 10,
   "id": "b3a2f773",
   "metadata": {},
   "outputs": [
    {
     "name": "stdout",
     "output_type": "stream",
     "text": [
      "4\n",
      "4\n",
      "1  \n",
      "1 2  \n",
      "1 2 3  \n",
      "1 2 3 4  \n"
     ]
    }
   ],
   "source": [
    "# Print a pattern using nested loop.\n",
    "row=int(input())\n",
    "col=int(input())\n",
    "for i in range(1,row+1):\n",
    "    for j in range(1,i+1):\n",
    "        print(j,end=\" \")\n",
    "    print(' ')        "
   ]
  },
  {
   "cell_type": "code",
   "execution_count": 11,
   "id": "fcea9eb3",
   "metadata": {},
   "outputs": [
    {
     "name": "stdout",
     "output_type": "stream",
     "text": [
      "i = 1 :  1  2  3  4  5  6  7  8  9 \n",
      "i = 2 :  2  4  6  8 10 12 14 16 18 \n",
      "i = 3 :  3  6  9 12 15 18 21 24 27 \n",
      "i = 4 :  4  8 12 16 20 24 28 32 36 \n",
      "i = 5 :  5 10 15 20 25 30 35 40 45 \n",
      "i = 6 :  6 12 18 24 30 36 42 48 54 \n",
      "i = 7 :  7 14 21 28 35 42 49 56 63 \n",
      "i = 8 :  8 16 24 32 40 48 56 64 72 \n",
      "i = 9 :  9 18 27 36 45 54 63 72 81 \n"
     ]
    }
   ],
   "source": [
    "#Generate a mltiplication table using nested loop.\n",
    "for i in range(1, 10):\n",
    "    print(\"i =\", i, \":\", end=\" \")\n",
    "    for j in range(1, 10):\n",
    "        print(\"{:2d}\".format(i * j), end=\" \")\n",
    "    print()"
   ]
  }
 ],
 "metadata": {
  "kernelspec": {
   "display_name": "Python 3 (ipykernel)",
   "language": "python",
   "name": "python3"
  },
  "language_info": {
   "codemirror_mode": {
    "name": "ipython",
    "version": 3
   },
   "file_extension": ".py",
   "mimetype": "text/x-python",
   "name": "python",
   "nbconvert_exporter": "python",
   "pygments_lexer": "ipython3",
   "version": "3.11.5"
  }
 },
 "nbformat": 4,
 "nbformat_minor": 5
}
